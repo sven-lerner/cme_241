{
 "cells": [
  {
   "cell_type": "code",
   "execution_count": 1,
   "metadata": {},
   "outputs": [],
   "source": [
    "import numpy as np"
   ]
  },
  {
   "cell_type": "code",
   "execution_count": 2,
   "metadata": {},
   "outputs": [],
   "source": [
    "from dataclasses import dataclass\n",
    "from typing import Tuple, Mapping, Dict, Sequence, Iterable, Set, List"
   ]
  },
  {
   "cell_type": "code",
   "execution_count": 16,
   "metadata": {},
   "outputs": [],
   "source": [
    "import matplotlib.pyplot as plt"
   ]
  },
  {
   "cell_type": "code",
   "execution_count": 126,
   "metadata": {},
   "outputs": [],
   "source": [
    "s = \"SPACE\"\n",
    "b = \"BLOCK\"\n",
    "g = \"GOAL\"\n",
    "maze_grid = {(0, 0): 'SPACE', (0, 1): 'BLOCK', (0, 2): 'SPACE', (0, 3): 'SPACE', (0, 4): 'SPACE', \n",
    "             (0, 5): 'SPACE', (0, 6): 'SPACE', (0, 7): 'SPACE', (1, 0): 'SPACE', (1, 1): 'BLOCK',\n",
    "             (1, 2): 'BLOCK', (1, 3): 'SPACE', (1, 4): 'BLOCK', (1, 5): 'BLOCK', (1, 6): 'BLOCK', \n",
    "             (1, 7): 'BLOCK', (2, 0): 'SPACE', (2, 1): 'BLOCK', (2, 2): 'SPACE', (2, 3): 'SPACE', \n",
    "             (2, 4): 'SPACE', (2, 5): 'SPACE', (2, 6): 'BLOCK', (2, 7): 'SPACE', (3, 0): 'SPACE', \n",
    "             (3, 1): 'SPACE', (3, 2): 'SPACE', (3, 3): 'BLOCK', (3, 4): 'BLOCK', (3, 5): 'SPACE', \n",
    "             (3, 6): 'BLOCK', (3, 7): 'SPACE', (4, 0): 'SPACE', (4, 1): 'BLOCK', (4, 2): 'SPACE', \n",
    "             (4, 3): 'BLOCK', (4, 4): 'SPACE', (4, 5): 'SPACE', (4, 6): 'SPACE', (4, 7): 'SPACE', \n",
    "             (5, 0): 'BLOCK', (5, 1): 'BLOCK', (5, 2): 'SPACE', (5, 3): 'BLOCK', (5, 4): 'SPACE', \n",
    "             (5, 5): 'BLOCK', (5, 6): 'SPACE', (5, 7): 'BLOCK', (6, 0): 'SPACE', (6, 1): 'BLOCK', \n",
    "             (6, 2): 'BLOCK', (6, 3): 'BLOCK', (6, 4): 'SPACE', (6, 5): 'BLOCK', (6, 6): 'SPACE', \n",
    "             (6, 7): 'SPACE', (7, 0): 'SPACE', (7, 1): 'SPACE', (7, 2): 'SPACE', (7, 3): 'SPACE', \n",
    "             (7, 4): 'SPACE', (7, 5): 'BLOCK', (7, 6): 'BLOCK', (7, 7): 'GOAL'}"
   ]
  },
  {
   "cell_type": "code",
   "execution_count": 127,
   "metadata": {},
   "outputs": [],
   "source": [
    "def track(f):\n",
    "    def wrapped(mdp, vf, s):\n",
    "        res = f(mdp, vf, s)\n",
    "        updated = vf.copy()\n",
    "        mdp.iterates.append(updated)\n",
    "    return wrapped\n",
    "\n",
    "\n",
    "@dataclass(frozen=True)\n",
    "class GridState:\n",
    "    '''Your code here, include the state information you need'''\n",
    "    x: int\n",
    "    y: int\n",
    "    \n",
    "    def neighbors(self) -> Iterable[GridState]:\n",
    "        return [GridState(self.x - 1, self.y), GridState(self.x + 1, self.y),\n",
    "                GridState(self.x, self.y - 1), GridState(self.x, self.y + 1)]\n",
    "\n",
    "    def __lt__(self, other: GridState):\n",
    "        '''Your code here, implement a comparison function that should satisfy'''\n",
    "        return (self.x, self.y) < (other.x, other.y)\n",
    "    \n",
    "    \n",
    "\n",
    "class GridMazeMDP:\n",
    "    \n",
    "    def __init__(self, maze_dict):\n",
    "        self.iterates = [] # do not change\n",
    "        self.tolerance = 1e-8\n",
    "        '''Your code here, initialize the data you need to solve the MDP\n",
    "        '''\n",
    "        self.states: Set[GridState] = set([GridState(x[0], x[1]) for x, y in maze_dict.items()\n",
    "                                           if y == 'SPACE' or y == 'GOAL'])\n",
    "        self.goal: GridState = [GridState(x[0], x[1]) for x, y in maze_dict.items() if y == 'GOAL'][0]\n",
    "        self.gamma: float = 1\n",
    "            \n",
    "    def reward_func(self, next_state) -> float:\n",
    "        return -1\n",
    "    \n",
    "    def plot_convergence(self, label):\n",
    "        '''do not change'''\n",
    "        sorted_vfs = np.array([[y[1] for y in sorted(x.items())] for x in self.iterates])\n",
    "        true_vf = sorted_vfs[-1, :]\n",
    "        convergences = np.linalg.norm(sorted_vfs - true_vf, axis=1)\n",
    "        print(convergences.shape)\n",
    "        plt.plot(convergences, label=label)\n",
    "        \n",
    "\n",
    "    def get_vf(self):\n",
    "        return self.iterates[-1]\n",
    "    \n",
    "    @track\n",
    "    def update_value_function_for_state(self, value_function: Mapping[GridState, float], s: GridState) -> None:\n",
    "        '''\n",
    "        Your code here: perform an in place update to value function for state \n",
    "        Runetime: O(1)\n",
    "        '''\n",
    "        if s != self.goal:\n",
    "            neighbor_value_functions = []\n",
    "            for neighbor in s.neighbors():\n",
    "                if neighbor in self.states:\n",
    "                    neighbor_value_functions.append(self.reward_func(neighbor) + self.gamma*value_function[neighbor])\n",
    "            value_function[s] = max(neighbor_value_functions)\n",
    "        else:\n",
    "            value_function[s] = 0\n",
    "            \n",
    "    \n",
    "    def in_place_value_iteration(self) -> Mapping[GridState, float]:\n",
    "        '''Your code here (Maybe, maybe leave as an example)\n",
    "        run in place value iteration until the max change of the VF over all states\n",
    "        is less than self.tolerance\n",
    "        hint: this implementation should call update_value_function_for_state in it's inner loop\n",
    "        '''\n",
    "        value_function = {s: 0 for s in self.states}\n",
    "        max_change = 1\n",
    "        while max_change > self.tolerance:\n",
    "            max_change = 0\n",
    "            for state in self.states:\n",
    "                old_val = value_function[state]\n",
    "                self.update_value_function_for_state(value_function, state)\n",
    "                max_change = max(max_change, abs(old_val - value_function[state]) > self.tolerance)\n",
    "        return value_function\n",
    "    \n",
    "    \n",
    "    def influence_tree_VI(self) -> Mapping[GridState, float]:\n",
    "        '''Your code here\n",
    "        run value tree iteration as descibed in the algorithm until the max change of \n",
    "        the VF over all states is less than self.tolerance\n",
    "        hint: make sure you are not adding states to the update set more than you need to\n",
    "        '''\n",
    "        value_function = {s: 0 for s in self.states}\n",
    "        influence_tree = self.get_influence_tree()\n",
    "        to_update = [s for s in self.states]\n",
    "        in_list = {s: True for s in self.states}\n",
    "        while len(to_update) > 0:\n",
    "            next_state = to_update.pop(0)\n",
    "            in_list[next_state] = False\n",
    "            old_val = value_function[next_state]\n",
    "            self.update_value_function_for_state(value_function, next_state)\n",
    "            if abs(old_val - value_function[next_state]) > self.tolerance:\n",
    "                for s in influence_tree[next_state]:\n",
    "                    if not in_list[s]:\n",
    "                         to_update.append(s)\n",
    "        return value_function\n",
    "            \n",
    "            \n",
    "    def get_influence_tree(self) -> Mapping[GridState, Iterable[GridState]]:\n",
    "        '''just a method I wrote, does not need to be implemented to solve the problem'''\n",
    "        influence_tree = {}\n",
    "        count = 0\n",
    "        for state in self.states:\n",
    "            influence_tree[state] = []\n",
    "            for neighbor in state.neighbors():\n",
    "                if neighbor != self.goal and neighbor in self.states:\n",
    "                    influence_tree[state].append(neighbor)\n",
    "        return influence_tree\n",
    "\n",
    "class SparseGridMazeMDP(GridMazeMDP):\n",
    "    \n",
    "    def __init__(self, maze_dict):\n",
    "        super().__init__(maze_dict)\n",
    "        self.gamma: float = 0.9\n",
    "    \n",
    "    def reward_func(self, next_state) -> float:\n",
    "        if next_state == self.goal:\n",
    "            return 1\n",
    "        return 0"
   ]
  },
  {
   "cell_type": "code",
   "execution_count": 128,
   "metadata": {},
   "outputs": [
    {
     "name": "stdout",
     "output_type": "stream",
     "text": [
      "(429,)\n",
      "(427,)\n"
     ]
    },
    {
     "data": {
      "text/plain": [
       "Text(0.5, 1.0, 'dense rewards')"
      ]
     },
     "execution_count": 128,
     "metadata": {},
     "output_type": "execute_result"
    },
    {
     "data": {
      "image/png": "[encoded data removed]",
      "text/plain": [
       "<Figure size 432x288 with 1 Axes>"
      ]
     },
     "metadata": {
      "needs_background": "light"
     },
     "output_type": "display_data"
    }
   ],
   "source": [
    "gm1 = GridMazeMDP(maze_grid)\n",
    "gm2 = GridMazeMDP(maze_grid)\n",
    "vf1 = gm1.in_place_value_iteration()\n",
    "gm1.plot_convergence(\"value iteration\")\n",
    "vf2 = gm2.influence_tree_VI()\n",
    "gm2.plot_convergence(\"influence tree value iteration\")\n",
    "plt.title(\"dense rewards\")"
   ]
  },
  {
   "cell_type": "code",
   "execution_count": 129,
   "metadata": {},
   "outputs": [
    {
     "name": "stdout",
     "output_type": "stream",
     "text": [
      "(390,)\n",
      "(113,)\n"
     ]
    },
    {
     "data": {
      "text/plain": [
       "Text(0.5, 1.0, 'sparse rewards')"
      ]
     },
     "execution_count": 129,
     "metadata": {},
     "output_type": "execute_result"
    },
    {
     "data": {
      "image/png": "[encoded data removed]",
      "text/plain": [
       "<Figure size 432x288 with 1 Axes>"
      ]
     },
     "metadata": {
      "needs_background": "light"
     },
     "output_type": "display_data"
    }
   ],
   "source": [
    "gm1 = SparseGridMazeMDP(maze_grid)\n",
    "gm2 = SparseGridMazeMDP(maze_grid)\n",
    "vf1 = gm1.in_place_value_iteration()\n",
    "gm1.plot_convergence(\"value iteration\")\n",
    "vf2 = gm2.influence_tree_VI()\n",
    "gm2.plot_convergence(\"influence tree value iteration\")\n",
    "plt.title(\"sparse rewards\")"
   ]
  }
 ],
 "metadata": {
  "kernelspec": {
   "display_name": "Python 3",
   "language": "python",
   "name": "python3"
  },
  "language_info": {
   "codemirror_mode": {
    "name": "ipython",
    "version": 3
   },
   "file_extension": ".py",
   "mimetype": "text/x-python",
   "name": "python",
   "nbconvert_exporter": "python",
   "pygments_lexer": "ipython3",
   "version": "3.7.3"
  }
 },
 "nbformat": 4,
 "nbformat_minor": 2
}
